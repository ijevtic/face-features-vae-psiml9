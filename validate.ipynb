{
 "cells": [
  {
   "cell_type": "code",
   "execution_count": 1,
   "metadata": {},
   "outputs": [],
   "source": [
    "import torch\n",
    "import torch.nn as nn\n",
    "import torch.nn.functional as F\n",
    "import torchvision\n",
    "from torchvision import transforms\n",
    "from torchvision.utils import save_image\n",
    "from tqdm import tqdm\n",
    "import torchvision.datasets as datasets \n",
    "from torch.utils.data import DataLoader\n",
    "from torchvision import datasets, transforms\n",
    "from torch.utils.data import random_split, Subset\n",
    "from CustomDataset import CustomDataset\n",
    "from VanillaVAE import VanillaVAE \n",
    "# import wandb\n"
   ]
  },
  {
   "cell_type": "code",
   "execution_count": 2,
   "metadata": {},
   "outputs": [],
   "source": [
    "device = torch.device('cuda' if torch.cuda.is_available() else 'cpu')\n",
    "INPUT_DIM = 3\n",
    "#38804\n",
    "Z_DIM = 500\n",
    "NUM_EPOCHS = 200\n",
    "BATCH_SIZE = 32\n",
    "LR_RATE = 3e-4\n",
    "KL_COEFF_MAX = 0.0000002\n",
    "PATH = \"bestmodel_wandb_newer.pt\"\n",
    "\n",
    "current_epoch = 0"
   ]
  },
  {
   "cell_type": "code",
   "execution_count": 3,
   "metadata": {},
   "outputs": [
    {
     "name": "stdout",
     "output_type": "stream",
     "text": [
      "0\n",
      "1000\n"
     ]
    }
   ],
   "source": [
    "batch_size = 16\n",
    "data_length = 10000\n",
    "start_index = 190000\n",
    "train_size = int(data_length*0.8)\n",
    "\n",
    "dataset_val = CustomDataset(\"data/img_align_celeba\", [(str(i).rjust(6, '0')+\".jpg\") for i in range(start_index, start_index + data_length+1)], transform=transforms.ToTensor(),loadToRam=True)\n",
    "\n",
    "validation_loader = DataLoader(dataset_val, batch_size=batch_size, shuffle=False)"
   ]
  },
  {
   "cell_type": "code",
   "execution_count": 4,
   "metadata": {},
   "outputs": [
    {
     "data": {
      "text/plain": [
       "<All keys matched successfully>"
      ]
     },
     "execution_count": 4,
     "metadata": {},
     "output_type": "execute_result"
    }
   ],
   "source": [
    "checkpoint = torch.load(PATH, map_location=device)\n",
    "\n",
    "model = VanillaVAE(INPUT_DIM, Z_DIM).to(device)\n",
    "model.load_state_dict(checkpoint['model_state_dict'])"
   ]
  },
  {
   "cell_type": "code",
   "execution_count": 5,
   "metadata": {},
   "outputs": [
    {
     "name": "stdout",
     "output_type": "stream",
     "text": [
      "Validation loss:  0.006826086649819026\n",
      "Reconstruction loss:  tensor(0.0065)\n"
     ]
    }
   ],
   "source": [
    "def validation(model, loss_fn):\n",
    "    model.eval()\n",
    "    total_reconst_loss = 0\n",
    "    loss = 0\n",
    "    for x in validation_loader:\n",
    "        with torch.no_grad():\n",
    "            x = x.to(device)\n",
    "            x_reconst, _, mu, sigma = model(x)\n",
    "            reconst_loss, kl_div = loss_fn(x_reconst, x, mu, sigma)['loss']\n",
    "            #print(\"reconst_loss\", reconst_loss)\n",
    "            loss = loss + reconst_loss + kl_div*KL_COEFF_MAX\n",
    "            total_reconst_loss = total_reconst_loss + reconst_loss\n",
    "    print(\"Validation loss: \", loss.item()/len(validation_loader))\n",
    "    print(\"Reconstruction loss: \", total_reconst_loss/len(validation_loader))\n",
    "    \n",
    "\n",
    "validation(model, model.loss_function)"
   ]
  }
 ],
 "metadata": {
  "kernelspec": {
   "display_name": "Python 3",
   "language": "python",
   "name": "python3"
  },
  "language_info": {
   "codemirror_mode": {
    "name": "ipython",
    "version": 3
   },
   "file_extension": ".py",
   "mimetype": "text/x-python",
   "name": "python",
   "nbconvert_exporter": "python",
   "pygments_lexer": "ipython3",
   "version": "3.9.13"
  },
  "orig_nbformat": 4
 },
 "nbformat": 4,
 "nbformat_minor": 2
}
