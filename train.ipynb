{
 "cells": [
  {
   "cell_type": "code",
   "execution_count": null,
   "metadata": {},
   "outputs": [],
   "source": [
    "import torch\n",
    "import torch.nn as nn\n",
    "import torch.nn.functional as F\n",
    "import torchvision\n",
    "from torchvision import transforms\n",
    "from torchvision.utils import save_image\n",
    "from tqdm import tqdm\n",
    "import torchvision.datasets as datasets \n",
    "from torch.utils.data import DataLoader\n",
    "from torchvision import datasets, transforms\n",
    "from torch.utils.data import random_split, Subset\n",
    "from CustomDataset import CustomDataset\n",
    "from VanillaVAE import VanillaVAE \n",
    "# import wandb\n"
   ]
  },
  {
   "cell_type": "code",
   "execution_count": null,
   "metadata": {},
   "outputs": [],
   "source": [
    "device = torch.device('cuda' if torch.cuda.is_available() else 'cpu')\n",
    "INPUT_DIM = 3\n",
    "#38804\n",
    "Z_DIM = 1000\n",
    "NUM_EPOCHS = 200\n",
    "BATCH_SIZE = 32\n",
    "LR_RATE = 3e-4\n",
    "KL_COEFF_MAX = 0.0000025\n",
    "PATH = \"model.pt\"\n",
    "\n",
    "current_epoch = 0"
   ]
  },
  {
   "cell_type": "code",
   "execution_count": null,
   "metadata": {},
   "outputs": [],
   "source": [
    "def kl_coeff_set(epoch):\n",
    "    # Calculate the beta value for the current epoch\n",
    "    if epoch < NUM_EPOCHS / 2:\n",
    "        coeff = (KL_COEFF_MAX / (NUM_EPOCHS / 2)) * epoch\n",
    "    else:\n",
    "        coeff = KL_COEFF_MAX\n",
    "\n",
    "    return coeff"
   ]
  },
  {
   "cell_type": "code",
   "execution_count": null,
   "metadata": {},
   "outputs": [],
   "source": [
    "\n",
    "batch_size = 32\n",
    "\n",
    "data_length = 1000#202599\n",
    "dataset = CustomDataset(\"data/img_align_celeba\", [(str(i).rjust(6, '0')+\".jpg\") for i in range(1,data_length+1)], transform=transforms.ToTensor())\n",
    "\n",
    "train_size = int(data_length*0.8)\n",
    "\n",
    "# Created using indices from 0 to train_size.\n",
    "dataset_train = Subset(dataset, range(train_size))\n",
    "\n",
    "# Created using indices from train_size to train_size + test_size.\n",
    "dataset_val = Subset(dataset, range(train_size, data_length))\n",
    "\n",
    "# dataset_train, dataset_val = random_split(dataset, [int(data_length*0.8), data_length- int(data_length*0.8)])\n",
    "\n",
    "\n",
    "train_loader = DataLoader(dataset_train, batch_size=batch_size, shuffle=True)\n",
    "validation_loader = DataLoader(dataset_val, batch_size=batch_size, shuffle=True)"
   ]
  },
  {
   "cell_type": "code",
   "execution_count": null,
   "metadata": {},
   "outputs": [],
   "source": [
    "# wandb.init(\n",
    "#     # set the wandb project where this run will be logged\n",
    "#     project=\"machine_run\",\n",
    "    \n",
    "#     # track hyperparameters and run metadata\n",
    "#     config={\n",
    "#     \"learning_rate\": LR_RATE,\n",
    "#     \"architecture\": \"VAE\",\n",
    "#     \"dataset\": \"CELEBA\",\n",
    "#     \"epochs\": NUM_EPOCHS,\n",
    "#     }\n",
    "# )"
   ]
  },
  {
   "cell_type": "code",
   "execution_count": null,
   "metadata": {},
   "outputs": [],
   "source": [
    "# Define train function\n",
    "def train(num_epochs, model, optimizer, loss_fn):\n",
    "    # Start training\n",
    "    for epoch in range(num_epochs):\n",
    "        print(f\"Epoch {epoch+1} of {num_epochs}\")\n",
    "        loop = tqdm(enumerate(train_loader))\n",
    "        epoch_loss = 0\n",
    "        epoch_reconst_loss = 0\n",
    "        epoch_kl_div = 0\n",
    "        for i, x in loop:\n",
    "            # Forward pass\n",
    "            x = x.to(device) #.view(-1, INPUT_DIM)\n",
    "            x_reconst, _, mu, sigma = model(x)\n",
    "\n",
    "            # loss, formulas from https://www.youtube.com/watch?v=igP03FXZqgo&t=2182s\n",
    "            reconst_loss, kl_div = loss_fn(x_reconst, x, mu, sigma)['loss']\n",
    "\n",
    "            # Backprop and optimize\n",
    "\n",
    "            kl_weight = kl_coeff_set(epoch)\n",
    "            \n",
    "            kl_div = kl_weight * kl_div\n",
    "            \n",
    "            loss = reconst_loss + kl_div\n",
    "            \n",
    "            \n",
    "            #wandb.log({\"examples\": images}\n",
    "            optimizer.zero_grad()\n",
    "            loss.backward()\n",
    "            optimizer.step()\n",
    "            epoch_loss = epoch_loss + loss.item()\n",
    "            epoch_reconst_loss = epoch_reconst_loss + reconst_loss.item()\n",
    "            epoch_kl_div = epoch_kl_div + kl_div.item()\n",
    "            loop.set_postfix(loss=loss.item())\n",
    "        \n",
    "        # wandb.log({\"total_loss\": loss,\n",
    "        #                \"reconst_loss\": reconst_loss,\n",
    "        #                \"kl_div\": kl_div})\n",
    "\n",
    "\n",
    "        if(epoch%2 == 0):\n",
    "            torch.save({\n",
    "                'epoch': epoch,\n",
    "                'model_state_dict': model.state_dict(),\n",
    "                'optimizer_state_dict': optimizer.state_dict(),\n",
    "                'loss': epoch_loss,\n",
    "                }, PATH)\n",
    "            \n",
    "\n",
    "# Initialize model, optimizer, loss\n",
    "model = VanillaVAE(INPUT_DIM, Z_DIM).to(device)\n",
    "optimizer = torch.optim.Adam(model.parameters(), lr=LR_RATE)\n",
    "loss_fn = model.loss_function\n",
    "\n",
    "train(NUM_EPOCHS, model, optimizer, model.loss_function)"
   ]
  },
  {
   "cell_type": "code",
   "execution_count": null,
   "metadata": {},
   "outputs": [],
   "source": [
    "# Run training\n"
   ]
  },
  {
   "cell_type": "code",
   "execution_count": null,
   "metadata": {},
   "outputs": [],
   "source": [
    "def validation(model, loss_fn):\n",
    "    model.eval()\n",
    "    with torch.no_grad():\n",
    "        loss = 0\n",
    "        loop = tqdm(enumerate(validation_loader), total=len(validation_loader), leave=False)\n",
    "        for i, x in loop:\n",
    "            x = x.to(device)\n",
    "            x_reconst, _, mu, sigma = model(x)\n",
    "            reconst_loss, kl_div = loss_fn(x_reconst, x, mu, sigma)['loss']\n",
    "            loss = loss + reconst_loss + kl_div*KL_COEFF_MAX\n",
    "        print(\"Validation loss: \", loss/len(validation_loader.dataset))\n"
   ]
  },
  {
   "cell_type": "code",
   "execution_count": null,
   "metadata": {},
   "outputs": [],
   "source": [
    "validation(model, model.loss_function)"
   ]
  },
  {
   "cell_type": "code",
   "execution_count": null,
   "metadata": {},
   "outputs": [],
   "source": [
    "def test_inference():\n",
    "\n",
    "    import numpy as np\n",
    "    import matplotlib.pyplot as plt\n",
    "    from PIL import Image\n",
    "\n",
    "\n",
    "    image = Image.open(\"data/img_align_celeba/000004.jpg\")\n",
    "    transform=transforms.ToTensor()\n",
    "\n",
    "    encodings = []\n",
    "    with torch.no_grad():\n",
    "        mu, sigma = model.encode(transform(image).unsqueeze(0))\n",
    "        encodings.append((mu, sigma))\n",
    "\n",
    "    mu, sigma = encodings[0]\n",
    "\n",
    "    epsilon = torch.randn_like(sigma)\n",
    "    z = mu + sigma * epsilon\n",
    "    out = model.decode(z)\n",
    "    out = out.view(-1, 3, 224, 192)\n",
    "    \n",
    "    out = out.cpu().detach().numpy()\n",
    "    out = np.transpose(out, (0, 2, 3, 1))\n",
    "    plt.imshow(out[0])\n",
    "\n",
    "test_inference()"
   ]
  },
  {
   "cell_type": "code",
   "execution_count": null,
   "metadata": {},
   "outputs": [],
   "source": [
    "def generate_new():\n",
    "    import numpy as np\n",
    "    import matplotlib.pyplot as plt\n",
    "    z = torch.randn(1, Z_DIM).to(device)\n",
    "    out = model.decode(z)\n",
    "    out = out.view(-1, 3, 224, 192)\n",
    "    #save_image(out, f\"generated_ex.png\")\n",
    "    # change to PIL and plot\n",
    "    out = out.cpu().detach().numpy()\n",
    "    out = np.transpose(out, (0, 2, 3, 1))\n",
    "    plt.imshow(out[0])\n",
    "\n",
    "generate_new()\n"
   ]
  }
 ],
 "metadata": {
  "kernelspec": {
   "display_name": "Python 3",
   "language": "python",
   "name": "python3"
  },
  "language_info": {
   "codemirror_mode": {
    "name": "ipython",
    "version": 3
   },
   "file_extension": ".py",
   "mimetype": "text/x-python",
   "name": "python",
   "nbconvert_exporter": "python",
   "pygments_lexer": "ipython3",
   "version": "3.9.13"
  },
  "orig_nbformat": 4
 },
 "nbformat": 4,
 "nbformat_minor": 2
}
