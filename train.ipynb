{
 "cells": [
  {
   "cell_type": "code",
   "execution_count": 1,
   "metadata": {},
   "outputs": [],
   "source": [
    "import torch\n",
    "import torch.nn as nn\n",
    "import torch.nn.functional as F\n",
    "import torchvision\n",
    "from torchvision import transforms\n",
    "from torchvision.utils import save_image\n",
    "from tqdm import tqdm\n",
    "import torchvision.datasets as datasets \n",
    "from torch.utils.data import DataLoader\n",
    "from torchvision import datasets, transforms\n",
    "from torch.utils.data import random_split, Subset\n",
    "from CustomDataset import CustomDataset\n",
    "from VanillaVAE import VanillaVAE \n",
    "# import wandb\n"
   ]
  },
  {
   "cell_type": "code",
   "execution_count": 8,
   "metadata": {},
   "outputs": [],
   "source": [
    "device = torch.device('cuda' if torch.cuda.is_available() else 'cpu')\n",
    "INPUT_DIM = 3\n",
    "#38804\n",
    "Z_DIM = 500\n",
    "NUM_EPOCHS = 200\n",
    "BATCH_SIZE = 32\n",
    "LR_RATE = 3e-4\n",
    "KL_COEFF_MAX = 0.0000002\n",
    "PATH = \"bestmodel_wandb_newer.pt\"\n",
    "\n",
    "current_epoch = 0"
   ]
  },
  {
   "cell_type": "code",
   "execution_count": 4,
   "metadata": {},
   "outputs": [],
   "source": [
    "def kl_coeff_set(epoch):\n",
    "    # Calculate the beta value for the current epoch\n",
    "    if epoch < NUM_EPOCHS / 2:\n",
    "        coeff = (KL_COEFF_MAX / (NUM_EPOCHS / 2)) * epoch\n",
    "    else:\n",
    "        coeff = KL_COEFF_MAX\n",
    "\n",
    "    return coeff"
   ]
  },
  {
   "cell_type": "code",
   "execution_count": 26,
   "metadata": {},
   "outputs": [],
   "source": [
    "\n",
    "batch_size = 32\n",
    "\n",
    "data_length = 10000#202599\n",
    "dataset = CustomDataset(\"data/img_align_celeba\", [(str(i).rjust(6, '0')+\".jpg\") for i in range(1,data_length+1)], transform=transforms.ToTensor(),loadToRam=False)\n",
    "\n",
    "train_size = int(data_length*0.8)\n",
    "\n",
    "# Created using indices from 0 to train_size.\n",
    "dataset_train = Subset(dataset, range(train_size))\n",
    "\n",
    "# Created using indices from train_size to train_size + test_size.\n",
    "dataset_val = Subset(dataset, range(train_size, data_length))\n",
    "\n",
    "# dataset_train, dataset_val = random_split(dataset, [int(data_length*0.8), data_length- int(data_length*0.8)])\n",
    "\n",
    "\n",
    "train_loader = DataLoader(dataset_train, batch_size=batch_size, shuffle=True)\n",
    "validation_loader = DataLoader(dataset_val, batch_size=batch_size, shuffle=True)"
   ]
  },
  {
   "cell_type": "code",
   "execution_count": null,
   "metadata": {},
   "outputs": [],
   "source": [
    "# wandb.init(\n",
    "#     # set the wandb project where this run will be logged\n",
    "#     project=\"machine_run\",\n",
    "    \n",
    "#     # track hyperparameters and run metadata\n",
    "#     config={\n",
    "#     \"learning_rate\": LR_RATE,\n",
    "#     \"architecture\": \"VAE\",\n",
    "#     \"dataset\": \"CELEBA\",\n",
    "#     \"epochs\": NUM_EPOCHS,\n",
    "#     }\n",
    "# )"
   ]
  },
  {
   "cell_type": "code",
   "execution_count": null,
   "metadata": {},
   "outputs": [],
   "source": [
    "# Define train function\n",
    "def train(num_epochs, model, optimizer, loss_fn):\n",
    "    # Start training\n",
    "    for epoch in range(num_epochs):\n",
    "        print(f\"Epoch {epoch+1} of {num_epochs}\")\n",
    "        loop = tqdm(enumerate(train_loader))\n",
    "        epoch_loss = 0\n",
    "        epoch_reconst_loss = 0\n",
    "        epoch_kl_div = 0\n",
    "        for i, x in loop:\n",
    "            # Forward pass\n",
    "            x = x.to(device) #.view(-1, INPUT_DIM)\n",
    "            x_reconst, _, mu, sigma = model(x)\n",
    "\n",
    "            # loss, formulas from https://www.youtube.com/watch?v=igP03FXZqgo&t=2182s\n",
    "            reconst_loss, kl_div = loss_fn(x_reconst, x, mu, sigma)['loss']\n",
    "\n",
    "            # Backprop and optimize\n",
    "\n",
    "            kl_weight = kl_coeff_set(epoch)\n",
    "            \n",
    "            kl_div = kl_weight * kl_div\n",
    "            \n",
    "            loss = reconst_loss + kl_div\n",
    "            \n",
    "            \n",
    "            #wandb.log({\"examples\": images}\n",
    "            optimizer.zero_grad()\n",
    "            loss.backward()\n",
    "            optimizer.step()\n",
    "            epoch_loss = epoch_loss + loss.item()\n",
    "            epoch_reconst_loss = epoch_reconst_loss + reconst_loss.item()\n",
    "            epoch_kl_div = epoch_kl_div + kl_div.item()\n",
    "            loop.set_postfix(loss=loss.item())\n",
    "        \n",
    "        # wandb.log({\"total_loss\": loss,\n",
    "        #                \"reconst_loss\": reconst_loss,\n",
    "        #                \"kl_div\": kl_div})\n",
    "\n",
    "\n",
    "        if(epoch%2 == 0):\n",
    "            torch.save({\n",
    "                'epoch': epoch,\n",
    "                'model_state_dict': model.state_dict(),\n",
    "                'optimizer_state_dict': optimizer.state_dict(),\n",
    "                'loss': epoch_loss,\n",
    "                }, PATH)\n",
    "            \n",
    "\n",
    "# Initialize model, optimizer, loss\n",
    "model = VanillaVAE(INPUT_DIM, Z_DIM).to(device)\n",
    "optimizer = torch.optim.Adam(model.parameters(), lr=LR_RATE)\n",
    "loss_fn = model.loss_function\n",
    "\n",
    "train(NUM_EPOCHS, model, optimizer, model.loss_function)"
   ]
  },
  {
   "cell_type": "code",
   "execution_count": 9,
   "metadata": {},
   "outputs": [
    {
     "data": {
      "text/plain": [
       "<All keys matched successfully>"
      ]
     },
     "execution_count": 9,
     "metadata": {},
     "output_type": "execute_result"
    }
   ],
   "source": [
    "checkpoint = torch.load(PATH, map_location=device)\n",
    "\n",
    "model = VanillaVAE(INPUT_DIM, Z_DIM).to(device)\n",
    "model.load_state_dict(checkpoint['model_state_dict'])"
   ]
  },
  {
   "cell_type": "code",
   "execution_count": 27,
   "metadata": {},
   "outputs": [],
   "source": [
    "def validation(model, loss_fn):\n",
    "    model.eval()\n",
    "    total_reconst_loss = 0\n",
    "    loss = 0\n",
    "    loop = tqdm(enumerate(validation_loader), total=len(validation_loader), leave=False)\n",
    "    for i, x in loop:\n",
    "        x = x.to(device)\n",
    "        x_reconst, _, mu, sigma = model(x)\n",
    "        reconst_loss, kl_div = loss_fn(x_reconst, x, mu, sigma)['loss']\n",
    "        loss = loss + reconst_loss + kl_div*KL_COEFF_MAX\n",
    "        total_reconst_loss = total_reconst_loss + reconst_loss\n",
    "    print(\"Validation loss: \", loss.item()/len(validation_loader.dataset))\n",
    "    print(\"Reconstruction loss: \", total_reconst_loss/len(validation_loader.dataset))\n",
    "    print(\"proso\")\n",
    "    print(\"Validation loss: \", loss/len(validation_loader.dataset))\n"
   ]
  },
  {
   "cell_type": "code",
   "execution_count": 28,
   "metadata": {},
   "outputs": [
    {
     "name": "stderr",
     "output_type": "stream",
     "text": [
      "                                      \r"
     ]
    },
    {
     "ename": "AttributeError",
     "evalue": "'tuple' object has no attribute 'to'",
     "output_type": "error",
     "traceback": [
      "\u001b[1;31m---------------------------------------------------------------------------\u001b[0m",
      "\u001b[1;31mAttributeError\u001b[0m                            Traceback (most recent call last)",
      "Cell \u001b[1;32mIn[28], line 1\u001b[0m\n\u001b[1;32m----> 1\u001b[0m validation(model, model\u001b[39m.\u001b[39;49mloss_function)\n",
      "Cell \u001b[1;32mIn[27], line 7\u001b[0m, in \u001b[0;36mvalidation\u001b[1;34m(model, loss_fn)\u001b[0m\n\u001b[0;32m      5\u001b[0m loop \u001b[39m=\u001b[39m tqdm(\u001b[39menumerate\u001b[39m(validation_loader), total\u001b[39m=\u001b[39m\u001b[39mlen\u001b[39m(validation_loader), leave\u001b[39m=\u001b[39m\u001b[39mFalse\u001b[39;00m)\n\u001b[0;32m      6\u001b[0m \u001b[39mfor\u001b[39;00m x \u001b[39min\u001b[39;00m loop:\n\u001b[1;32m----> 7\u001b[0m     x \u001b[39m=\u001b[39m x\u001b[39m.\u001b[39;49mto(device)\n\u001b[0;32m      8\u001b[0m     x_reconst, _, mu, sigma \u001b[39m=\u001b[39m model(x)\n\u001b[0;32m      9\u001b[0m     reconst_loss, kl_div \u001b[39m=\u001b[39m loss_fn(x_reconst, x, mu, sigma)[\u001b[39m'\u001b[39m\u001b[39mloss\u001b[39m\u001b[39m'\u001b[39m]\n",
      "\u001b[1;31mAttributeError\u001b[0m: 'tuple' object has no attribute 'to'"
     ]
    }
   ],
   "source": [
    "validation(model, model.loss_function)"
   ]
  },
  {
   "cell_type": "code",
   "execution_count": null,
   "metadata": {},
   "outputs": [],
   "source": [
    "def test_inference():\n",
    "\n",
    "    import numpy as np\n",
    "    import matplotlib.pyplot as plt\n",
    "    from PIL import Image\n",
    "\n",
    "\n",
    "    image = Image.open(\"data/img_align_celeba/000004.jpg\")\n",
    "    transform=transforms.ToTensor()\n",
    "\n",
    "    encodings = []\n",
    "    with torch.no_grad():\n",
    "        mu, sigma = model.encode(transform(image).unsqueeze(0))\n",
    "        encodings.append((mu, sigma))\n",
    "\n",
    "    mu, sigma = encodings[0]\n",
    "\n",
    "    epsilon = torch.randn_like(sigma)\n",
    "    z = mu + sigma * epsilon\n",
    "    out = model.decode(z)\n",
    "    out = out.view(-1, 3, 224, 192)\n",
    "    \n",
    "    out = out.cpu().detach().numpy()\n",
    "    out = np.transpose(out, (0, 2, 3, 1))\n",
    "    plt.imshow(out[0])\n",
    "\n",
    "test_inference()"
   ]
  },
  {
   "cell_type": "code",
   "execution_count": null,
   "metadata": {},
   "outputs": [],
   "source": [
    "def generate_new():\n",
    "    import numpy as np\n",
    "    import matplotlib.pyplot as plt\n",
    "    z = torch.randn(1, Z_DIM).to(device)\n",
    "    out = model.decode(z)\n",
    "    out = out.view(-1, 3, 224, 192)\n",
    "    #save_image(out, f\"generated_ex.png\")\n",
    "    # change to PIL and plot\n",
    "    out = out.cpu().detach().numpy()\n",
    "    out = np.transpose(out, (0, 2, 3, 1))\n",
    "    plt.imshow(out[0])\n",
    "\n",
    "generate_new()\n"
   ]
  }
 ],
 "metadata": {
  "kernelspec": {
   "display_name": "Python 3",
   "language": "python",
   "name": "python3"
  },
  "language_info": {
   "codemirror_mode": {
    "name": "ipython",
    "version": 3
   },
   "file_extension": ".py",
   "mimetype": "text/x-python",
   "name": "python",
   "nbconvert_exporter": "python",
   "pygments_lexer": "ipython3",
   "version": "3.9.13"
  },
  "orig_nbformat": 4
 },
 "nbformat": 4,
 "nbformat_minor": 2
}
