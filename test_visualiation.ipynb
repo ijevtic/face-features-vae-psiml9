{
 "cells": [
  {
   "cell_type": "code",
   "execution_count": null,
   "metadata": {},
   "outputs": [],
   "source": [
    "# open file list_attr_celeba.txt and read the content in a list\n",
    "\n",
    "import os\n",
    "import pandas as pd\n",
    "from PIL import Image\n",
    "import matplotlib.pyplot as plt\n",
    "import numpy as np\n",
    "\n",
    "img_path = \"data/img_align_celeba\"\n",
    "df = pd.read_csv(\"data/list_attr_celeba.csv\")\n",
    "# df = df.head(10000)\n",
    "df = df.tail(10000)\n",
    "print(df.columns)\n",
    "\n",
    "\n",
    "feature_filter = {\"glasses\":[(df['Eyeglasses'] == 1) & (df['Male']==1), (df['Eyeglasses'] == -1) & (df['Male']==1)],\n",
    "                   \"beard\":[(df['No_Beard'] == -1) & (df['Male'] == 1), (df['No_Beard'] == 1) & (df['Male'] == 1)]}\n",
    "\n",
    "current_feature = \"beard\"\n",
    "\n",
    "with_glasses = df['image_id'][feature_filter[current_feature][0]].tolist()\n",
    "without_glasses = df['image_id'][feature_filter[current_feature][1]].tolist()\n",
    "\n",
    "print(len(with_glasses))\n",
    "print(len(without_glasses))\n",
    "\n",
    "print(with_glasses[-5])\n",
    "\n",
    "\n"
   ]
  },
  {
   "cell_type": "code",
   "execution_count": null,
   "metadata": {},
   "outputs": [],
   "source": [
    "glass_images = [Image.open(f'{img_path}/{with_glasses[np.random.randint(0, len(with_glasses))]}') for i in range(5)]\n",
    "f = plt.figure()\n",
    "for i in range(5):\n",
    "    # Debug, plot figure\n",
    "    f.add_subplot(1, 5, i + 1)\n",
    "    plt.axis('off')\n",
    "    plt.imshow(glass_images[i])\n",
    "\n",
    "plt.show(block=True) \n",
    "\n",
    "no_glass_images = [Image.open(f'{img_path}/{without_glasses[np.random.randint(0, len(without_glasses))]}') for i in range(5)]\n",
    "f = plt.figure()\n",
    "for i in range(5):\n",
    "    # Debug, plot figure\n",
    "    f.add_subplot(1, 5, i + 1)\n",
    "    plt.axis('off')\n",
    "    plt.imshow(no_glass_images[i])\n",
    "\n",
    "plt.show(block=True) \n"
   ]
  },
  {
   "cell_type": "code",
   "execution_count": null,
   "metadata": {},
   "outputs": [],
   "source": [
    "from VanillaVAE import VanillaVAE\n",
    "import torch\n",
    "from torchvision import transforms\n",
    "\n",
    "\n",
    "INPUT_DIM = 3\n",
    "\n",
    "Z_DIM = 128\n",
    "PATH = \"model_wandb_128dim_25000pics.pt\"\n",
    "device = torch.device('cpu')\n",
    "\n",
    "model = VanillaVAE(INPUT_DIM, Z_DIM)\n",
    "checkpoint = torch.load(PATH,map_location=device)\n",
    "model.load_state_dict(checkpoint['model_state_dict'])\n",
    "\n",
    "transform=transforms.ToTensor()\n",
    "\n",
    "f = plt.figure()\n",
    "for i in range(len(glass_images)):\n",
    "    with torch.no_grad():\n",
    "        out = model.forward(transform(glass_images[i]).unsqueeze(0).to(device))[0]\n",
    "        \n",
    "    out = out.view(-1, 3, 224, 192)\n",
    "    out = np.transpose(out, (0, 2, 3, 1))\n",
    "    f.add_subplot(1, len(glass_images), i + 1)\n",
    "    plt.axis('off')\n",
    "    plt.imshow(out[0])\n",
    "\n"
   ]
  },
  {
   "cell_type": "code",
   "execution_count": null,
   "metadata": {},
   "outputs": [],
   "source": [
    "delta_mu = torch.load('delta_mu.pt')"
   ]
  },
  {
   "cell_type": "code",
   "execution_count": null,
   "metadata": {},
   "outputs": [],
   "source": [
    "import matplotlib.pyplot as plt\n",
    "\n",
    "\n",
    "f = plt.figure()\n",
    "for i in range(len(no_glass_images)):\n",
    "    with torch.no_grad():\n",
    "        x = transform(no_glass_images[i]).unsqueeze(0).to(device)\n",
    "        # x = torch.rand_like(transform(no_glass_images[i]).unsqueeze(0)).to(device) \n",
    "        # x = torch.zeros_like(x).to(device)\n",
    "        out = model.generate_with_delta(x,delta_mu*3) #torch.zeros_like(delta_mu))\n",
    "        \n",
    "    out = out.view(-1, 3, 224, 192)\n",
    "    out = np.transpose(out, (0, 2, 3, 1))\n",
    "    f.add_subplot(1, len(no_glass_images), i + 1)\n",
    "    plt.axis('off')\n",
    "    plt.imshow(out[0])"
   ]
  }
 ],
 "metadata": {
  "kernelspec": {
   "display_name": "Python 3",
   "language": "python",
   "name": "python3"
  },
  "language_info": {
   "codemirror_mode": {
    "name": "ipython",
    "version": 3
   },
   "file_extension": ".py",
   "mimetype": "text/x-python",
   "name": "python",
   "nbconvert_exporter": "python",
   "pygments_lexer": "ipython3",
   "version": "3.9.13"
  },
  "orig_nbformat": 4
 },
 "nbformat": 4,
 "nbformat_minor": 2
}
